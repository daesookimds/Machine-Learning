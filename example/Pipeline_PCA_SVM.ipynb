{
 "cells": [
  {
   "cell_type": "markdown",
   "metadata": {},
   "source": [
    "## PipeLine, PCA, SVM Practice\n",
    "    - Labeled Faces in Wild 얼굴 이미지 사진에 대해, 다음 조건을 만족하는 분류 모형을 만들고 평가해본다.\n",
    "\n",
    "1. 컴포넌트가 100개인 PCA와 선형 커널 서포트 벡터 머신을 파이프라인으로 연결하여 분류 모형을 만든다.\n",
    "2. Validation_curve를 이용하여 가장 accuracy가 높은 slack variable penalty C값을 찾는다.(cv=3)"
   ]
  },
  {
   "cell_type": "code",
   "execution_count": 1,
   "metadata": {},
   "outputs": [],
   "source": [
    "import numpy as np\n",
    "import pickle\n",
    "import matplotlib.pyplot as plt"
   ]
  },
  {
   "cell_type": "code",
   "execution_count": 2,
   "metadata": {},
   "outputs": [
    {
     "name": "stderr",
     "output_type": "stream",
     "text": [
      "/usr/local/lib/python3.7/site-packages/sklearn/utils/__init__.py:4: DeprecationWarning: Using or importing the ABCs from 'collections' instead of from 'collections.abc' is deprecated, and in 3.8 it will stop working\n",
      "  from collections import Sequence\n"
     ]
    }
   ],
   "source": [
    "f = open(\"lfw_people.p\", \"rb\")\n",
    "lfw_people = pickle.load(f)\n",
    "f.close()\n",
    "\n",
    "X = lfw_people.data\n",
    "y = lfw_people.target"
   ]
  },
  {
   "cell_type": "code",
   "execution_count": 3,
   "metadata": {},
   "outputs": [
    {
     "data": {
      "text/plain": [
       "array([[ 81.333336,  86.      , 102.      , ..., 134.      , 149.66667 ,\n",
       "        120.      ],\n",
       "       [ 33.333332,  58.      ,  80.      , ...,  79.333336, 103.      ,\n",
       "        127.666664],\n",
       "       [ 88.666664,  66.      ,  53.333332, ..., 132.33333 ,  59.666668,\n",
       "         81.      ],\n",
       "       ...,\n",
       "       [ 49.333332,  55.666668,  76.666664, ..., 186.33333 , 176.33333 ,\n",
       "        161.      ],\n",
       "       [132.66667 , 152.66667 , 166.      , ..., 230.      , 226.      ,\n",
       "        226.      ],\n",
       "       [ 31.      ,  26.333334,  28.      , ...,  34.      ,  42.      ,\n",
       "         69.666664]], dtype=float32)"
      ]
     },
     "execution_count": 3,
     "metadata": {},
     "output_type": "execute_result"
    }
   ],
   "source": [
    "X"
   ]
  },
  {
   "cell_type": "code",
   "execution_count": 4,
   "metadata": {},
   "outputs": [
    {
     "data": {
      "text/plain": [
       "array([11,  4,  2, ...,  3, 11,  5])"
      ]
     },
     "execution_count": 4,
     "metadata": {},
     "output_type": "execute_result"
    }
   ],
   "source": [
    "y"
   ]
  },
  {
   "cell_type": "markdown",
   "metadata": {},
   "source": [
    "### 1. 컴포넌트가 100개인 PCA와 선형 커널 서포트 벡터 머신을 파이프라인으로 연결하여 분류 모형을 만든다."
   ]
  },
  {
   "cell_type": "code",
   "execution_count": 5,
   "metadata": {},
   "outputs": [],
   "source": [
    "from sklearn.decomposition import PCA\n",
    "from sklearn.pipeline import Pipeline\n",
    "from sklearn.svm import SVC\n",
    "from sklearn.model_selection import validation_curve"
   ]
  },
  {
   "cell_type": "code",
   "execution_count": 6,
   "metadata": {},
   "outputs": [],
   "source": [
    "model = PCA(n_components=100).fit(X)\n",
    "X = model.transform(X)"
   ]
  },
  {
   "cell_type": "code",
   "execution_count": 7,
   "metadata": {},
   "outputs": [],
   "source": [
    "model = Pipeline([(\"pca\", PCA(n_components=100)), (\"svc\", SVC(kernel=\"linear\"))])"
   ]
  },
  {
   "cell_type": "code",
   "execution_count": 8,
   "metadata": {},
   "outputs": [
    {
     "data": {
      "text/plain": [
       "Pipeline(memory=None,\n",
       "     steps=[('pca', PCA(copy=True, iterated_power='auto', n_components=100, random_state=None,\n",
       "  svd_solver='auto', tol=0.0, whiten=False)), ('svc', SVC(C=1.0, cache_size=200, class_weight=None, coef0=0.0,\n",
       "  decision_function_shape='ovr', degree=3, gamma='auto_deprecated',\n",
       "  kernel='linear', max_iter=-1, probability=False, random_state=None,\n",
       "  shrinking=True, tol=0.001, verbose=False))])"
      ]
     },
     "execution_count": 8,
     "metadata": {},
     "output_type": "execute_result"
    }
   ],
   "source": [
    "model.fit(X, y)"
   ]
  },
  {
   "cell_type": "code",
   "execution_count": 9,
   "metadata": {},
   "outputs": [
    {
     "data": {
      "text/plain": [
       "array([11,  4,  2, ...,  3, 11,  5])"
      ]
     },
     "execution_count": 9,
     "metadata": {},
     "output_type": "execute_result"
    }
   ],
   "source": [
    "model.predict(X)"
   ]
  },
  {
   "cell_type": "code",
   "execution_count": 10,
   "metadata": {},
   "outputs": [
    {
     "data": {
      "text/plain": [
       "array([11,  4,  2, ...,  3, 11,  5])"
      ]
     },
     "execution_count": 10,
     "metadata": {},
     "output_type": "execute_result"
    }
   ],
   "source": [
    "y"
   ]
  },
  {
   "cell_type": "markdown",
   "metadata": {},
   "source": [
    "### 2. Validation_curve를 이용하여 가장 accuracy가 높은 slack variable penalty C값을 찾는다.(cv=3)"
   ]
  },
  {
   "cell_type": "code",
   "execution_count": 11,
   "metadata": {},
   "outputs": [],
   "source": [
    "from sklearn.model_selection import validation_curve"
   ]
  },
  {
   "cell_type": "code",
   "execution_count": 12,
   "metadata": {
    "scrolled": true
   },
   "outputs": [],
   "source": [
    "train_scores, valid_scores = validation_curve(model, X, y, param_name=\"svc__C\", param_range=np.logspace(-10, 10, 20), scoring=\"accuracy\", cv=3)"
   ]
  },
  {
   "cell_type": "code",
   "execution_count": 13,
   "metadata": {},
   "outputs": [
    {
     "data": {
      "image/png": "[encoded data removed]",
      "text/plain": [
       "<Figure size 432x288 with 1 Axes>"
      ]
     },
     "metadata": {},
     "output_type": "display_data"
    }
   ],
   "source": [
    "train_scores_mean = np.mean(train_scores, axis=1)\n",
    "train_scores_std = np.std(train_scores, axis=1)\n",
    "valid_scores_mean = np.mean(valid_scores, axis=1)\n",
    "valid_scores_std = np.std(valid_scores, axis=1)\n",
    "\n",
    "plt.title(\"Validation Curve with SVM\")\n",
    "plt.xlabel(\"$\\gamma$\")\n",
    "plt.ylabel(\"Score\")\n",
    "plt.ylim(0.0, 1.1)\n",
    "lw = 3\n",
    "\n",
    "plt.semilogx(np.logspace(-10, 10, 20), train_scores_mean, label=\"Training score\",\n",
    "             color=\"darkorange\", lw=lw)\n",
    "plt.fill_between(np.logspace(-10, 10, 20), train_scores_mean - train_scores_std,\n",
    "                 train_scores_mean + train_scores_std, alpha=0.2,\n",
    "                 color=\"darkorange\", lw=lw)\n",
    "plt.semilogx(np.logspace(-10, 10, 20), valid_scores_mean, label=\"Cross-validation score\",\n",
    "             color=\"navy\", lw=lw)\n",
    "plt.fill_between(np.logspace(-10, 10, 20), valid_scores_mean - valid_scores_std,\n",
    "                 valid_scores_mean + valid_scores_std, alpha=0.2,\n",
    "                 color=\"navy\", lw=lw)\n",
    "plt.legend(loc=\"best\")\n",
    "plt.show()"
   ]
  },
  {
   "cell_type": "code",
   "execution_count": 14,
   "metadata": {},
   "outputs": [],
   "source": [
    "from sklearn.model_selection import cross_val_score"
   ]
  },
  {
   "cell_type": "code",
   "execution_count": 15,
   "metadata": {},
   "outputs": [],
   "source": [
    "penalty_list = [1e-10, 1e-9, 1e-8, 1e-7, 1e-6, 1e-5, 1e-4, 1e-3, 1e-2, 1e-1, \\\n",
    "                1, 1e2, 1e3, 1e4, 1e5, 1e6, 1e7, 1e8, 1e9, 1e10]\n",
    "score_list = []\n",
    "mean_score_list = []"
   ]
  },
  {
   "cell_type": "code",
   "execution_count": 16,
   "metadata": {},
   "outputs": [
    {
     "name": "stdout",
     "output_type": "stream",
     "text": [
      "1e-10\n",
      "1e-09\n",
      "1e-08\n",
      "1e-07\n",
      "1e-06\n",
      "1e-05\n",
      "0.0001\n",
      "0.001\n",
      "0.01\n",
      "0.1\n",
      "1\n",
      "100.0\n",
      "1000.0\n",
      "10000.0\n",
      "100000.0\n",
      "1000000.0\n",
      "10000000.0\n",
      "100000000.0\n",
      "1000000000.0\n",
      "10000000000.0\n"
     ]
    }
   ],
   "source": [
    "for penalty in penalty_list:\n",
    "    model = Pipeline([(\"pca\", PCA(n_components=100)), (\"svc\", SVC(kernel=\"linear\", C=penalty))])\n",
    "    print(penalty)\n",
    "    score = cross_val_score(model, X, y, cv=3)\n",
    "    score_list.append(score)\n",
    "    mean_score_list.append(np.mean(score))"
   ]
  },
  {
   "cell_type": "code",
   "execution_count": 17,
   "metadata": {},
   "outputs": [
    {
     "data": {
      "text/plain": [
       "[array([0.33714286, 0.34038462, 0.34174757]),\n",
       " array([0.33714286, 0.34038462, 0.34174757]),\n",
       " array([0.33714286, 0.34038462, 0.34174757]),\n",
       " array([0.56761905, 0.58846154, 0.58058252]),\n",
       " array([0.75428571, 0.78653846, 0.79417476]),\n",
       " array([0.72571429, 0.78076923, 0.76116505]),\n",
       " array([0.71428571, 0.76923077, 0.75339806]),\n",
       " array([0.71428571, 0.76923077, 0.75339806]),\n",
       " array([0.71428571, 0.76923077, 0.75339806]),\n",
       " array([0.71428571, 0.76923077, 0.75339806]),\n",
       " array([0.71428571, 0.76923077, 0.75339806]),\n",
       " array([0.71428571, 0.76923077, 0.75339806]),\n",
       " array([0.71428571, 0.76923077, 0.75339806]),\n",
       " array([0.71428571, 0.76923077, 0.75339806]),\n",
       " array([0.71428571, 0.76923077, 0.75339806]),\n",
       " array([0.71428571, 0.76923077, 0.75339806]),\n",
       " array([0.71428571, 0.76923077, 0.75339806]),\n",
       " array([0.71428571, 0.76923077, 0.75339806]),\n",
       " array([0.71428571, 0.76923077, 0.75339806]),\n",
       " array([0.71428571, 0.76923077, 0.75339806])]"
      ]
     },
     "execution_count": 17,
     "metadata": {},
     "output_type": "execute_result"
    }
   ],
   "source": [
    "score_list"
   ]
  },
  {
   "cell_type": "code",
   "execution_count": 18,
   "metadata": {
    "scrolled": true
   },
   "outputs": [
    {
     "data": {
      "text/plain": [
       "0.7783329777019098"
      ]
     },
     "execution_count": 18,
     "metadata": {},
     "output_type": "execute_result"
    }
   ],
   "source": [
    "max(mean_score_list)"
   ]
  },
  {
   "cell_type": "code",
   "execution_count": 19,
   "metadata": {},
   "outputs": [
    {
     "name": "stdout",
     "output_type": "stream",
     "text": [
      "0.7783329777019098\n",
      "1e-06\n"
     ]
    }
   ],
   "source": [
    "print(mean_score_list[4])\n",
    "print(penalty_list[4])"
   ]
  },
  {
   "cell_type": "markdown",
   "metadata": {},
   "source": [
    "### 최적 C 값은 1e-6"
   ]
  },
  {
   "cell_type": "code",
   "execution_count": null,
   "metadata": {},
   "outputs": [],
   "source": []
  }
 ],
 "metadata": {
  "kernelspec": {
   "display_name": "Python 3",
   "language": "python",
   "name": "python3"
  },
  "language_info": {
   "codemirror_mode": {
    "name": "ipython",
    "version": 3
   },
   "file_extension": ".py",
   "mimetype": "text/x-python",
   "name": "python",
   "nbconvert_exporter": "python",
   "pygments_lexer": "ipython3",
   "version": "3.7.0"
  }
 },
 "nbformat": 4,
 "nbformat_minor": 2
}
